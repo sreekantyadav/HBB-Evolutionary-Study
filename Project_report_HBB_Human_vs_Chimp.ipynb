{
 "cells": [
  {
   "cell_type": "markdown",
   "id": "935d637a-7289-4e8b-b6a8-7e9a8a28dc68",
   "metadata": {},
   "source": [
    "# Comparative Analysis of Hemoglobin Beta (HBB) Protein in Human and Chimpanzee"
   ]
  },
  {
   "cell_type": "markdown",
   "id": "8f3f2228-81e7-4eb4-8c47-f52127d4ab2a",
   "metadata": {},
   "source": [
    "## Introduction\n",
    "Hemoglobin beta (HBB) is a critical component of hemoglobin, the oxygen-carrying protein in red blood cells.\n",
    "Even small variations in HBB can cause diseases like sickle-cell anemia.  \n",
    "Humans and chimpanzees share ~98–99% of their DNA, making HBB an ideal candidate to study evolutionary conservation.\n"
   ]
  },
  {
   "cell_type": "markdown",
   "id": "24c43869-10b3-4aeb-8352-c99a85052d2f",
   "metadata": {},
   "source": [
    "**Objective:**  \n",
    "- Fetch HBB mRNA sequences from NCBI (Human & Chimpanzee).  \n",
    "- Extract and translate the coding sequence (CDS) into protein.  \n",
    "- Analyze amino acid composition.  \n",
    "- Compare Human and Chimpanzee HBB proteins.  \n"
   ]
  },
  {
   "cell_type": "markdown",
   "id": "2664cd0a-87f4-4016-92f1-1a805bb5d11d",
   "metadata": {},
   "source": [
    "## Step1. Import Libraries"
   ]
  },
  {
   "cell_type": "code",
   "execution_count": 1,
   "id": "7a8f081c-6d79-4e90-b350-2458a2324a06",
   "metadata": {},
   "outputs": [],
   "source": [
    "# BioPython → for sequence fetching & parsing\n",
    "from Bio import Entrez, SeqIO\n",
    "\n",
    "# Counter → for amino acid frequency\n",
    "from collections import Counter\n",
    "\n",
    "# pandas → for data tables\n",
    "import pandas as pd\n",
    "\n",
    "# matplotlib → for visualization\n",
    "import matplotlib.pyplot as plt\n",
    "\n",
    "# numpy → for bar chart alignment\n",
    "import numpy as np\n",
    "\n",
    "# Always provide email for NCBI Entrez\n",
    "Entrez.email = \"sreekantyadav84@gmail.com\"\n"
   ]
  },
  {
   "cell_type": "markdown",
   "id": "81ea8c90-8c96-483e-9678-120fa24461dc",
   "metadata": {},
   "source": [
    "## Step2. Fetching mRNA sequence for Human"
   ]
  },
  {
   "cell_type": "markdown",
   "id": "c5d0eb0a-6eaf-4007-a571-3a5c36784744",
   "metadata": {},
   "source": [
    "Fetching the Human HBB sequence provides a baseline for understanding protein structure and function, while fetching the Chimpanzee HBB sequence allows us to compare across species. Since humans and chimpanzees share a close evolutionary relationship, this comparison can reveal how conserved this gene is between the two species."
   ]
  },
  {
   "cell_type": "code",
   "execution_count": null,
   "id": "e8b0ca28-1976-451b-8b8a-f53d93389871",
   "metadata": {},
   "outputs": [],
   "source": [
    "# Fetch Human HBB (NM_000518.5)\n",
    "handle = Entrez.efetch(db=\"nucleotide\", id=\"NM_000518.5\", rettype=\"gb\", retmode=\"text\")\n",
    "human_record = SeqIO.read(handle, \"genbank\")\n",
    "handle.close()"
   ]
  },
  {
   "cell_type": "markdown",
   "id": "20104a0f-b4d5-4398-84c0-8abf8d2870ad",
   "metadata": {},
   "source": [
    "## Why we need CDS\n",
    "GenBank records contain both coding (CDS) and non-coding regions.\n",
    "To analyze the functional protein, we must extract only the coding DNA sequence (CDS) and translate it into amino acids.\n",
    "Directly translating the full mRNA sequence (with 5’ and 3’ UTRs) would give incorrect results, so focusing on the CDS ensures we get the exact functional protein sequence."
   ]
  },
  {
   "cell_type": "code",
   "execution_count": 3,
   "id": "dca290d5-b4a9-4ad6-93a0-a2545317dc85",
   "metadata": {},
   "outputs": [
    {
     "name": "stdout",
     "output_type": "stream",
     "text": [
      "✅ Human HBB length: 147 aa\n",
      "MVHLTPEEKSAVTALWGKVNVDEVGGEALGRLLVVYPWTQRFFESFGDLSTPDAVMGNPKVKAHGKKVLGAFSDGLAHLDNLKGTFATLSELHCDKLHVDPENFRLLGNVLVCVLAHHFGKEFTPPVQAAYQKVVAGVANALAHKYH\n"
     ]
    }
   ],
   "source": [
    "# Extract CDS\n",
    "human_cds = None\n",
    "for feature in human_record.features:\n",
    "    if feature.type == \"CDS\":\n",
    "      human_cds = feature\n",
    "      break\n",
    "human_seq = human_cds.extract(human_record.seq)\n",
    "\n",
    "# Adjust codon_start if needed\n",
    "codon_start = int(human_cds.qualifiers.get(\"codon_start\", [\"1\"])[0])\n",
    "if codon_start in (2, 3):\n",
    "    human_seq = human_seq[(codon_start - 1):]\n",
    "\n",
    "# Translate into protein\n",
    "table = int(human_cds.qualifiers.get(\"transl_table\", [\"1\"])[0])\n",
    "human_protein = human_seq.translate(table=table, to_stop=True)\n",
    "\n",
    "# save as Fasta format\n",
    "with open(\"human_HBB_protein.fasta\", \"w\")as f:\n",
    "    f.write(f\">human_HBB_protein \\n {human_protein}\")\n",
    "\n",
    "print(\"✅ Human HBB length:\", len(human_protein), \"aa\")\n",
    "print(human_protein)\n"
   ]
  },
  {
   "cell_type": "markdown",
   "id": "83675a05-4bb7-4d5a-89dc-22ff3b421c94",
   "metadata": {},
   "source": [
    "##  Fetching mRNA sequence for Chimpanzee"
   ]
  },
  {
   "cell_type": "code",
   "execution_count": 4,
   "id": "ab1d6a4c-43b8-47e0-989c-289bd770cfe7",
   "metadata": {},
   "outputs": [
    {
     "name": "stdout",
     "output_type": "stream",
     "text": [
      "✅ Chimpanzee HBB length: 147 aa\n",
      "MVHLTPEEKSAVTALWGKVNVDEVGGEALGRLLVVYPWTQRFFESFGDLSTPDAVMGNPKVKAHGKKVLGAFSDGLAHLDNLKGTFATLSELHCDKLHVDPENFRLLGNVLVCVLAHHFGKEFTPPVQAAYQKVVAGVANALAHKYH\n"
     ]
    }
   ],
   "source": [
    "# Fetch Chimpanzee HBB (XM_508242.5)\n",
    "handle = Entrez.efetch(db=\"nucleotide\", id=\"XM_508242.5\", rettype=\"gb\", retmode=\"text\")\n",
    "chimp_record = SeqIO.read(handle, \"genbank\")\n",
    "handle.close()\n",
    "\n",
    "# Extract CDS\n",
    "chimp_cds = None\n",
    "for feature in chimp_record.features:\n",
    "    if feature.type == \"CDS\":\n",
    "      chimp_cds = feature\n",
    "      break\n",
    "chimp_seq = chimp_cds.extract(chimp_record.seq)\n",
    "\n",
    "# Adjust codon_start\n",
    "codon_start = int(chimp_cds.qualifiers.get(\"codon_start\", [\"1\"])[0])\n",
    "if codon_start in (2, 3):\n",
    "    chimp_seq = chimp_seq[(codon_start - 1):]\n",
    "\n",
    "# Translate\n",
    "table = int(chimp_cds.qualifiers.get(\"transl_table\", [\"1\"])[0])\n",
    "chimp_protein = chimp_seq.translate(table=table, to_stop=True)\n",
    "\n",
    "print(\"✅ Chimpanzee HBB length:\", len(chimp_protein), \"aa\")\n",
    "print(chimp_protein)\n"
   ]
  },
  {
   "cell_type": "markdown",
   "id": "3f2f69e6-4cc3-4ae7-bc97-70fe22f9cae1",
   "metadata": {},
   "source": [
    "## Step3. Amino acid composition of Human HBB"
   ]
  },
  {
   "cell_type": "markdown",
   "id": "428c4269-4d46-47d8-96da-e8eee456c133",
   "metadata": {},
   "source": [
    "Amino acid composition gives us a fingerprint of a protein.\n",
    "It shows how often each amino acid occurs and can provide insights into:\n",
    "    Stability (hydrophobic vs. hydrophilic residues)\n",
    "    Functional regions (charged or polar residues)\n",
    "    Similarities or differences between homologous proteins.\n",
    "This is one of the simplest but most fundamental ways to compare proteins."
   ]
  },
  {
   "cell_type": "code",
   "execution_count": 5,
   "id": "6cdc5667-ce41-4942-b8c6-5d2d51eb749f",
   "metadata": {},
   "outputs": [
    {
     "name": "stdout",
     "output_type": "stream",
     "text": [
      "  amino acid  count\n",
      "0          M      2\n",
      "1          V     18\n",
      "2          H      9\n",
      "3          L     18\n",
      "4          T      7\n"
     ]
    }
   ],
   "source": [
    "# count amino acids\n",
    "aa_counts = Counter(human_protein)\n",
    "\n",
    "# convert into DataFrame\n",
    "aa_df = pd.DataFrame.from_dict(aa_counts, orient= \"index\", columns = [\"Count\"])  \n",
    "\n",
    "aa_df = aa_df.reset_index()\n",
    "aa_df.columns =[\"amino acid\", \"count\"]\n",
    "\n",
    "# saving as csv format\n",
    "aa_df.to_csv(\"Human_HBB_amino_acid_counts.csv\", index = False) \n",
    "\n",
    "# reloading csv file\n",
    "human_df = pd.read_csv(\"Human_HBB_amino_acid_counts.csv\")\n",
    "print(human_df.head())\n"
   ]
  },
  {
   "cell_type": "markdown",
   "id": "efd8e96b-dbac-4d19-9c2b-0b8f1312fc9a",
   "metadata": {},
   "source": [
    "## Amino acid composition of Chimpanzee"
   ]
  },
  {
   "cell_type": "code",
   "execution_count": 6,
   "id": "f3789bba-a385-4d3f-b602-7888df38184e",
   "metadata": {},
   "outputs": [
    {
     "name": "stdout",
     "output_type": "stream",
     "text": [
      "  Amino acid  Count\n",
      "0          M      2\n",
      "1          V     18\n",
      "2          H      9\n",
      "3          L     18\n",
      "4          T      7\n"
     ]
    }
   ],
   "source": [
    "Chimp_aa_counts = Counter(chimp_protein)\n",
    "aa_df =pd.DataFrame.from_dict(Chimp_aa_counts, orient =\"index\", columns = [\"Count\"])\n",
    "aa_df= aa_df.reset_index()\n",
    "aa_df.columns = [\"Amino acid\" , \"Count\"]\n",
    "aa_df.to_csv(\"Chimpanzee_HBB_amino_acid_counts.csv\", index = False)\n",
    "Chimpanzee_df =pd.read_csv(\"Chimpanzee_HBB_amino_acid_counts.csv\")\n",
    "print(Chimpanzee_df.head())"
   ]
  },
  {
   "cell_type": "markdown",
   "id": "26971e66-5958-4d51-a94b-7d2c0c7c6822",
   "metadata": {},
   "source": [
    "## Step4. Comparison between Human and Chimpanzee Amino acid composition"
   ]
  },
  {
   "cell_type": "code",
   "execution_count": 8,
   "id": "e6d1483c-bc0d-49fc-b3e4-0dd6e4b8a2af",
   "metadata": {},
   "outputs": [
    {
     "name": "stdout",
     "output_type": "stream",
     "text": [
      "✅ Comparison saved to HBB_aa_comparison.csv\n",
      "   Human  Chimpanzee\n",
      "M      2           2\n",
      "V     18          18\n",
      "H      9           9\n",
      "L     18          18\n",
      "T      7           7\n"
     ]
    }
   ],
   "source": [
    "human_counts = Counter(human_protein)\n",
    "chimp_counts = Counter(chimp_protein)\n",
    "\n",
    "# Put into Comparison DataFrame\n",
    "df_compare = pd.DataFrame({\"Human\": human_counts, \"Chimpanzee\": chimp_counts}).fillna(0).astype(int)\n",
    "\n",
    "# Save the table to CSV format\n",
    "df_compare.to_csv(\"HBB_aa_comparison.csv\")\n",
    "print(\"✅ Comparison saved to HBB_aa_comparison.csv\")\n",
    "print(df_compare.head())"
   ]
  },
  {
   "cell_type": "markdown",
   "id": "d8abfe11-1372-48d5-aee5-c228e627a1bb",
   "metadata": {},
   "source": [
    "## Step5. Visualization"
   ]
  },
  {
   "cell_type": "code",
   "execution_count": 9,
   "id": "ee49b857-ccea-47db-902c-642a4daa1bba",
   "metadata": {},
   "outputs": [
    {
     "data": {
      "image/png": "[encoded data removed]",
      "text/plain": [
       "<Figure size 1200x600 with 1 Axes>"
      ]
     },
     "metadata": {},
     "output_type": "display_data"
    }
   ],
   "source": [
    "# Side-by-side bar plot\n",
    "amino_acids = sorted(df_compare.index)         # sorted amino acids\n",
    "human_counts = [df_compare.loc[aa, \"Human\"] for aa in amino_acids]\n",
    "chimp_counts = [df_compare.loc[aa, \"Chimpanzee\"] for aa in amino_acids]\n",
    "\n",
    "x = np.arange(len(amino_acids))     # x positions\n",
    "width = 0.4     # bar width\n",
    "\n",
    "plt.figure(figsize=(12, 6))\n",
    "plt.bar(x - width/2, human_counts, width, label=\"Human HBB\", color=\"steelblue\")\n",
    "plt.bar(x + width/2, chimp_counts, width, label=\"Chimpanzee HBB\", color=\"gold\")\n",
    "\n",
    "plt.xticks(x, amino_acids)\n",
    "plt.title(\"Amino Acid Frequency Comparison (Human vs Chimpanzee HBB)\")\n",
    "plt.xlabel(\"Amino Acid\")\n",
    "plt.ylabel(\"Count\")\n",
    "plt.savefig(\"HBB_Human_vs_Chimpanzee_amino_acid_comparison(side_by_side)\", dpi = 300, bbox_inches = \"tight\")\n",
    "plt.legend()\n",
    "plt.show()   "
   ]
  },
  {
   "cell_type": "markdown",
   "id": "cb6d22b7-181f-49a1-8dcb-c33197b5ed38",
   "metadata": {},
   "source": [
    "Both bars for an amino acid are almost the same height, it means that amino acid occurs with nearly the same frequency in both species."
   ]
  },
  {
   "cell_type": "markdown",
   "id": "8ab80240-04b8-48ec-83a6-ced06ed26eef",
   "metadata": {},
   "source": [
    "## Step6. Results & Discussion\n",
    "\n",
    "- Both Human and Chimpanzee HBB proteins are **147 amino acids long**, showing strong evolutionary conservation.  \n",
    "- Amino acid composition analysis revealed nearly identical profiles, confirming high sequence similarity.  \n",
    "- This reflects the close evolutionary relationship between humans and chimpanzees (~98–99% genome identity).  \n",
    "\n",
    "The project demonstrates how **bioinformatics pipelines** can extract, translate, and compare genes/proteins from public databases.\n"
   ]
  },
  {
   "cell_type": "markdown",
   "id": "d65d82de-052f-45ba-99d8-f6f824c9ad5c",
   "metadata": {},
   "source": [
    "## Step7. Conclusion\n",
    "\n",
    "This mini-project highlights the practical workflow for comparative genomics:  \n",
    "1. Fetch sequence data from NCBI.  \n",
    "2. Extract CDS and translate into protein.  \n",
    "3. Perform amino acid composition analysis.  \n",
    "4. Compare orthologous proteins across species.  \n",
    "\n",
    "Such approaches form the foundation of **molecular evolution studies**, with applications in medicine, genetics, and biotechnology.\n",
    "\n",
    "**Future Work:**  \n",
    "We can extend this analysis by:\n",
    "- Performing BLAST alignment of Human vs Chimpanzee HBB sequences.\n",
    "- Including other primates (e.g., gorilla, macaque) for phylogenetic comparison."
   ]
  },
  {
   "cell_type": "markdown",
   "id": "0967a8c3-4d3d-4e1e-9ae1-39f7bf92a16c",
   "metadata": {},
   "source": [
    "## References\n",
    "NCBI GenBank (https://www.ncbi.nlm.nih.gov/),\n",
    "Biopython Documentation (https://biopython.org/)"
   ]
  }
 ],
 "metadata": {
  "kernelspec": {
   "display_name": "Python 3 (ipykernel)",
   "language": "python",
   "name": "python3"
  },
  "language_info": {
   "codemirror_mode": {
    "name": "ipython",
    "version": 3
   },
   "file_extension": ".py",
   "mimetype": "text/x-python",
   "name": "python",
   "nbconvert_exporter": "python",
   "pygments_lexer": "ipython3",
   "version": "3.11.13"
  }
 },
 "nbformat": 4,
 "nbformat_minor": 5
}
